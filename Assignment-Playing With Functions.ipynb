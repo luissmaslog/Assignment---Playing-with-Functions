{
 "cells": [
  {
   "cell_type": "markdown",
   "metadata": {},
   "source": [
    "# 1\n",
    "### 1 point\n",
    "Write a function that takes the circumference of a circle as a parameter and **returns** the area of that circle.<br> Note: Assume the value of pi is 3.1416"
   ]
  },
  {
   "cell_type": "code",
   "execution_count": 1,
   "metadata": {},
   "outputs": [
    {
     "name": "stdout",
     "output_type": "stream",
     "text": [
      "Enter the circumference of a circle: 5\n",
      "The area of the circle is 1.98943213649096\n"
     ]
    }
   ],
   "source": [
    "PI = 3.1416\n",
    "circumference = float(input('Enter the circumference of a circle: '))\n",
    "\n",
    "area = circumference * circumference / ( 4 * PI)\n",
    "\n",
    "print(\"The area of the circle is\", area)"
   ]
  },
  {
   "cell_type": "markdown",
   "metadata": {},
   "source": [
    "# 2\n",
    "### 2 points\n",
    "Write a function that takes a 5-character string as a parameter and returns the string in reverse order. <br> e.g. reverseString(\"Hello\") -> \"olleH\""
   ]
  },
  {
   "cell_type": "code",
   "execution_count": 3,
   "metadata": {},
   "outputs": [
    {
     "name": "stdout",
     "output_type": "stream",
     "text": [
      "Enter a 5 character word: Pokes\n",
      "sekoP\n"
     ]
    }
   ],
   "source": [
    "def revString(w):\n",
    "    flip = \"\"\n",
    "    for x in range(len(w)):\n",
    "        flip = flip + w[-x-1]\n",
    "    return(flip)\n",
    "while True:\n",
    "    inp = input(\"Enter a 5 character word: \")\n",
    "    if len(inp)==5:\n",
    "        print(revString(inp))\n",
    "        break\n",
    "    else:\n",
    "        print(\"Please input a valid word\")"
   ]
  },
  {
   "cell_type": "markdown",
   "metadata": {},
   "source": [
    "# 3\n",
    "### 3 points\n",
    "Write a function that takes a positive integer as input and returns the sum of all positive integers smaller than and including the number itself. <br> e.g. backAddition(5) -> 1 + 2 + 3 + 4 + 5 -> 15\n",
    "\n",
    "\n",
    "\n"
   ]
  },
  {
   "cell_type": "code",
   "execution_count": 4,
   "metadata": {},
   "outputs": [
    {
     "name": "stdout",
     "output_type": "stream",
     "text": [
      "What number? 5\n",
      "15\n"
     ]
    }
   ],
   "source": [
    "def backAddition(num):\n",
    "    sum = 0\n",
    "    for x in range(num):\n",
    "        sum = sum + x+1\n",
    "    return(sum)\n",
    "while True:\n",
    "    inp = int(input(\"Input a Number: \"))\n",
    "    if inp > 0:\n",
    "        print(backAddition(inp))\n",
    "        break\n",
    "    else:\n",
    "        print(\"Please enter a positive number.\")"
   ]
  },
  {
   "cell_type": "markdown",
   "metadata": {},
   "source": [
    "# 4\n",
    "### 5 points (all or nothing)\n",
    "The sum of the squares of the first ten natural numbers is, 12 + 22 + ... + 102 = 385 <br>\n",
    "\n",
    "The square of the sum of the first ten natural numbers is, (1 + 2 + ... + 10)2 = 552 = 3025<br>\n",
    "\n",
    "Hence the difference between the sum of the squares of the first ten natural numbers and the square of the sum is 3025 − 385 = 2640.<br>\n",
    "\n",
    "Find the difference between the sum of the squares of the first one hundred natural numbers and the square of the sum.<br>\n",
    "\n",
    "Show code that generates the answer."
   ]
  },
  {
   "cell_type": "code",
   "execution_count": 5,
   "metadata": {},
   "outputs": [
    {
     "name": "stdout",
     "output_type": "stream",
     "text": [
      "25164150\n"
     ]
    }
   ],
   "source": [
    "sqrsum = 0\n",
    "sumsqr = 0\n",
    "for i in range(100):\n",
    "    sqrsum = sqrsum + i + 1\n",
    "    sumsqr = sumsqr + (i+1)**2\n",
    "    \n",
    "sqrsum = sqrsum**2\n",
    "\n",
    "print(sqrsum-sumsqr)"
   ]
  },
  {
   "cell_type": "markdown",
   "metadata": {},
   "source": [
    "# 5\n",
    "### 5 points\n",
    "Write a function that allows a self-service Point of Sale system to give you the exact change when you pay in cash.\n",
    "\n",
    "The function should accept the number of cents entered by the caller of the function. It then should display the denominations of the coins that should be given to the buyer. The change should use as few coins as possible. Assume that the Point of Sale system is loaded with 1 cent, 5 cents, 10 cents, 25 cents and 1 peso coins.\n",
    "\n",
    "Write main program code that accepts the number of cents manually through user input and calls the function written above.\n",
    "\n",
    "Input: The program accepts one positive integer, cents, corresponding to the total change to be given by the Point of Sale system.\n",
    "\n",
    "Output: The number of 1 peso, 25 cents, 10 cents, 5 cents and 1 cent coins respectively. There should be one output per line.\n",
    "\n",
    "Sample Input 1:<br>\n",
    "105\n",
    "\n",
    "Sample Output 1 <br>\n",
    "1<br>\n",
    "0<br>\n",
    "0<br>\n",
    "1<br>\n",
    "0<br>\n",
    "\n",
    "Sample Input 2:<br>\n",
    "69<br>\n",
    "\n",
    "Sample Output 2:<br>\n",
    "0<br>\n",
    "2<br>\n",
    "1<br>\n",
    "1<br>\n",
    "4<br>"
   ]
  },
  {
   "cell_type": "code",
   "execution_count": 6,
   "metadata": {},
   "outputs": [
    {
     "name": "stdout",
     "output_type": "stream",
     "text": [
      "How much change?9876\n",
      "98\n",
      "3\n",
      "0\n",
      "0\n",
      "1\n"
     ]
    }
   ],
   "source": [
    "def pos(change):\n",
    "    arr = [100, 25, 10, 5, 1]\n",
    "    for i in range(5):\n",
    "        num = change//arr[i]\n",
    "        print(num)\n",
    "        change = change - num*arr[i]\n",
    "\n",
    "inp = int(input(\"How much change? \"))\n",
    "pos(inp)"
   ]
  },
  {
   "cell_type": "code",
   "execution_count": null,
   "metadata": {},
   "outputs": [],
   "source": []
  }
 ],
 "metadata": {
  "kernelspec": {
   "display_name": "Python 3",
   "language": "python",
   "name": "python3"
  },
  "language_info": {
   "codemirror_mode": {
    "name": "ipython",
    "version": 3
   },
   "file_extension": ".py",
   "mimetype": "text/x-python",
   "name": "python",
   "nbconvert_exporter": "python",
   "pygments_lexer": "ipython3",
   "version": "3.8.5"
  }
 },
 "nbformat": 4,
 "nbformat_minor": 4
}
